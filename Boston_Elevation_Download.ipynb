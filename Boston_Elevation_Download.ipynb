{
 "cells": [
  {
   "cell_type": "code",
   "execution_count": 1,
   "outputs": [
    {
     "name": "stderr",
     "output_type": "stream",
     "text": [
      "b'Skipping line 26144: expected 20 fields, saw 21\\n'\n"
     ]
    },
    {
     "data": {
      "text/plain": "  BibNumber          FullName           SortName  AgeOnRaceDay Gender  \\\n0         2  Lawrence Cherono  Cherono, Lawrence            30      M   \n1         6     Lelisa Desisa     Desisa, Lelisa            29      M   \n\n      City StateAbbrev StateName  Zip CountryOfResAbbrev CountryOfResName  \\\n0  Eldoret         NaN       NaN  NaN                KEN            Kenya   \n1     Ambo         NaN       NaN  NaN                ETH         Ethiopia   \n\n  CountryOfCtzAbbrev CountryOfCtzName OfficialTime  RankOverall  \\\n0                KEN            Kenya     02:07:57            1   \n1                ETH         Ethiopia     02:07:59            2   \n\n   RankOverGender  RankOverDivision EventGroup SubGroupLabel SubGroup  \n0               1                 1    Runners           NaN      NaN  \n1               2                 2    Runners           NaN      NaN  ",
      "text/html": "<div>\n<style scoped>\n    .dataframe tbody tr th:only-of-type {\n        vertical-align: middle;\n    }\n\n    .dataframe tbody tr th {\n        vertical-align: top;\n    }\n\n    .dataframe thead th {\n        text-align: right;\n    }\n</style>\n<table border=\"1\" class=\"dataframe\">\n  <thead>\n    <tr style=\"text-align: right;\">\n      <th></th>\n      <th>BibNumber</th>\n      <th>FullName</th>\n      <th>SortName</th>\n      <th>AgeOnRaceDay</th>\n      <th>Gender</th>\n      <th>City</th>\n      <th>StateAbbrev</th>\n      <th>StateName</th>\n      <th>Zip</th>\n      <th>CountryOfResAbbrev</th>\n      <th>CountryOfResName</th>\n      <th>CountryOfCtzAbbrev</th>\n      <th>CountryOfCtzName</th>\n      <th>OfficialTime</th>\n      <th>RankOverall</th>\n      <th>RankOverGender</th>\n      <th>RankOverDivision</th>\n      <th>EventGroup</th>\n      <th>SubGroupLabel</th>\n      <th>SubGroup</th>\n    </tr>\n  </thead>\n  <tbody>\n    <tr>\n      <td>0</td>\n      <td>2</td>\n      <td>Lawrence Cherono</td>\n      <td>Cherono, Lawrence</td>\n      <td>30</td>\n      <td>M</td>\n      <td>Eldoret</td>\n      <td>NaN</td>\n      <td>NaN</td>\n      <td>NaN</td>\n      <td>KEN</td>\n      <td>Kenya</td>\n      <td>KEN</td>\n      <td>Kenya</td>\n      <td>02:07:57</td>\n      <td>1</td>\n      <td>1</td>\n      <td>1</td>\n      <td>Runners</td>\n      <td>NaN</td>\n      <td>NaN</td>\n    </tr>\n    <tr>\n      <td>1</td>\n      <td>6</td>\n      <td>Lelisa Desisa</td>\n      <td>Desisa, Lelisa</td>\n      <td>29</td>\n      <td>M</td>\n      <td>Ambo</td>\n      <td>NaN</td>\n      <td>NaN</td>\n      <td>NaN</td>\n      <td>ETH</td>\n      <td>Ethiopia</td>\n      <td>ETH</td>\n      <td>Ethiopia</td>\n      <td>02:07:59</td>\n      <td>2</td>\n      <td>2</td>\n      <td>2</td>\n      <td>Runners</td>\n      <td>NaN</td>\n      <td>NaN</td>\n    </tr>\n  </tbody>\n</table>\n</div>"
     },
     "execution_count": 1,
     "metadata": {},
     "output_type": "execute_result"
    }
   ],
   "source": [
    "import numpy as np\n",
    "import pandas as pd\n",
    "from datetime import datetime\n",
    "\n",
    "import seaborn as sns\n",
    "import matplotlib.pyplot as plt\n",
    "sns.set_style(\"whitegrid\")\n",
    "%matplotlib inline\n",
    "\n",
    "from datetime import datetime\n",
    "import time\n",
    "import csv\n",
    "sns.set_style(\"darkgrid\")\n",
    "results_2018 = pd.read_csv('./Runners_all_results_2018.csv', header = 0, encoding='latin-1')\n",
    "results_2018['OfficialTime'] = results_2018['OfficialTime'].apply(lambda x: datetime.combine(datetime.min, datetime.strptime(x, '%H:%M:%S').time()) - datetime.min)\n",
    "results_2019 = pd.read_csv('./Runners_all_results_2019.csv', header = 0, encoding='latin-1', error_bad_lines=False)\n",
    "results_2019['OfficialTime'] = results_2019['OfficialTime'].apply(lambda x: datetime.combine(datetime.min, datetime.strptime(x, '%H:%M:%S').time()) - datetime.min)\n",
    "results_2019.head(2)"
   ],
   "metadata": {
    "collapsed": false,
    "pycharm": {
     "name": "#%%\n"
    }
   }
  },
  {
   "cell_type": "code",
   "execution_count": 2,
   "outputs": [
    {
     "name": "stderr",
     "output_type": "stream",
     "text": [
      "/home/micha/anaconda3/lib/python3.7/site-packages/ipykernel_launcher.py:1: SettingWithCopyWarning: \n",
      "A value is trying to be set on a copy of a slice from a DataFrame\n",
      "\n",
      "See the caveats in the documentation: http://pandas.pydata.org/pandas-docs/stable/user_guide/indexing.html#returning-a-view-versus-a-copy\n",
      "  \"\"\"Entry point for launching an IPython kernel.\n",
      "/home/micha/anaconda3/lib/python3.7/site-packages/ipykernel_launcher.py:2: SettingWithCopyWarning: \n",
      "A value is trying to be set on a copy of a slice from a DataFrame\n",
      "\n",
      "See the caveats in the documentation: http://pandas.pydata.org/pandas-docs/stable/user_guide/indexing.html#returning-a-view-versus-a-copy\n",
      "  \n"
     ]
    },
    {
     "data": {
      "text/plain": "  BibNumber          FullName           SortName  AgeOnRaceDay Gender  \\\n0         2  Lawrence Cherono  Cherono, Lawrence            30      1   \n1         6     Lelisa Desisa     Desisa, Lelisa            29      1   \n\n      City StateAbbrev StateName  Zip CountryOfResAbbrev CountryOfResName  \\\n0  Eldoret         NaN       NaN  NaN                KEN            Kenya   \n1     Ambo         NaN       NaN  NaN                ETH         Ethiopia   \n\n  CountryOfCtzAbbrev CountryOfCtzName OfficialTime  RankOverall  \\\n0                KEN            Kenya     02:07:57            1   \n1                ETH         Ethiopia     02:07:59            2   \n\n   RankOverGender  RankOverDivision EventGroup SubGroupLabel SubGroup  \n0               1                 1    Runners           NaN      NaN  \n1               2                 2    Runners           NaN      NaN  ",
      "text/html": "<div>\n<style scoped>\n    .dataframe tbody tr th:only-of-type {\n        vertical-align: middle;\n    }\n\n    .dataframe tbody tr th {\n        vertical-align: top;\n    }\n\n    .dataframe thead th {\n        text-align: right;\n    }\n</style>\n<table border=\"1\" class=\"dataframe\">\n  <thead>\n    <tr style=\"text-align: right;\">\n      <th></th>\n      <th>BibNumber</th>\n      <th>FullName</th>\n      <th>SortName</th>\n      <th>AgeOnRaceDay</th>\n      <th>Gender</th>\n      <th>City</th>\n      <th>StateAbbrev</th>\n      <th>StateName</th>\n      <th>Zip</th>\n      <th>CountryOfResAbbrev</th>\n      <th>CountryOfResName</th>\n      <th>CountryOfCtzAbbrev</th>\n      <th>CountryOfCtzName</th>\n      <th>OfficialTime</th>\n      <th>RankOverall</th>\n      <th>RankOverGender</th>\n      <th>RankOverDivision</th>\n      <th>EventGroup</th>\n      <th>SubGroupLabel</th>\n      <th>SubGroup</th>\n    </tr>\n  </thead>\n  <tbody>\n    <tr>\n      <td>0</td>\n      <td>2</td>\n      <td>Lawrence Cherono</td>\n      <td>Cherono, Lawrence</td>\n      <td>30</td>\n      <td>1</td>\n      <td>Eldoret</td>\n      <td>NaN</td>\n      <td>NaN</td>\n      <td>NaN</td>\n      <td>KEN</td>\n      <td>Kenya</td>\n      <td>KEN</td>\n      <td>Kenya</td>\n      <td>02:07:57</td>\n      <td>1</td>\n      <td>1</td>\n      <td>1</td>\n      <td>Runners</td>\n      <td>NaN</td>\n      <td>NaN</td>\n    </tr>\n    <tr>\n      <td>1</td>\n      <td>6</td>\n      <td>Lelisa Desisa</td>\n      <td>Desisa, Lelisa</td>\n      <td>29</td>\n      <td>1</td>\n      <td>Ambo</td>\n      <td>NaN</td>\n      <td>NaN</td>\n      <td>NaN</td>\n      <td>ETH</td>\n      <td>Ethiopia</td>\n      <td>ETH</td>\n      <td>Ethiopia</td>\n      <td>02:07:59</td>\n      <td>2</td>\n      <td>2</td>\n      <td>2</td>\n      <td>Runners</td>\n      <td>NaN</td>\n      <td>NaN</td>\n    </tr>\n  </tbody>\n</table>\n</div>"
     },
     "execution_count": 2,
     "metadata": {},
     "output_type": "execute_result"
    }
   ],
   "source": [
    "results_2019.Gender[results_2019.Gender == 'M'] = 1\n",
    "results_2019.Gender[results_2019.Gender == 'F'] = 0\n",
    "results_2019.head(2)"
   ],
   "metadata": {
    "collapsed": false,
    "pycharm": {
     "name": "#%%\n"
    }
   }
  },
  {
   "cell_type": "code",
   "execution_count": 3,
   "outputs": [],
   "source": [
    "import requests\n",
    "import pandas as pd\n",
    "import geocoder\n",
    "\n",
    "# script for returning elevation from lat, long\n",
    "def get_elevation(lat, long):\n",
    "    query = ('https://elevation-api.io/api/elevation'\n",
    "             f'?points=({lat},{long})')\n",
    "    r = requests.get(query, headers = {'User-agent': 'your bot 0.1'})\n",
    "    if  r.status_code == requests.codes.ok:\n",
    "        rj = r.json()# json object, various ways you can extract value\n",
    "        # one approach is to use pandas json functionality:\n",
    "        elevation = pd.io.json.json_normalize(rj, 'elevations')['elevation'].values[0]\n",
    "        return elevation\n",
    "    else:\n",
    "        print(\"response status code: {}\".format(r.status_code))\n",
    "        return\n",
    "\n",
    "def get_elevation_from_name(name):\n",
    "    g = geocoder.arcgis(name)\n",
    "    # print(g.lat, g.lng)\n",
    "    elevation = get_elevation(g.lat, g.lng)\n",
    "    # print(elevation)\n",
    "    return elevation"
   ],
   "metadata": {
    "collapsed": false,
    "pycharm": {
     "name": "#%%\n"
    }
   }
  },
  {
   "cell_type": "code",
   "execution_count": 7,
   "outputs": [
    {
     "name": "stderr",
     "output_type": "stream",
     "text": [
      "/home/micha/anaconda3/lib/python3.7/site-packages/ipykernel_launcher.py:2: SettingWithCopyWarning: \n",
      "A value is trying to be set on a copy of a slice from a DataFrame\n",
      "\n",
      "See the caveats in the documentation: http://pandas.pydata.org/pandas-docs/stable/user_guide/indexing.html#returning-a-view-versus-a-copy\n",
      "  \n",
      "/home/micha/anaconda3/lib/python3.7/site-packages/ipykernel_launcher.py:3: SettingWithCopyWarning: \n",
      "A value is trying to be set on a copy of a slice from a DataFrame.\n",
      "Try using .loc[row_indexer,col_indexer] = value instead\n",
      "\n",
      "See the caveats in the documentation: http://pandas.pydata.org/pandas-docs/stable/user_guide/indexing.html#returning-a-view-versus-a-copy\n",
      "  This is separate from the ipykernel package so we can avoid doing imports until\n"
     ]
    },
    {
     "name": "stdout",
     "output_type": "stream",
     "text": [
      "response status code: 400\n",
      "response status code: 400\n"
     ]
    }
   ],
   "source": [
    "cities = results_2019[['City']]\n",
    "cities.drop_duplicates(inplace = True)\n",
    "cities['Elevation'] = cities.apply(lambda x: get_elevation_from_name(x['City']), axis=1)\n",
    "cities.to_csv(\"cities.csv\", encoding='utf-8', index=False)"
   ],
   "metadata": {
    "collapsed": false,
    "pycharm": {
     "name": "#%%\n"
    }
   }
  },
  {
   "cell_type": "code",
   "execution_count": 8,
   "outputs": [
    {
     "name": "stdout",
     "output_type": "stream",
     "text": [
      "hello\n"
     ]
    }
   ],
   "source": [
    "print(\"hello\")\n",
    "\n"
   ],
   "metadata": {
    "collapsed": false,
    "pycharm": {
     "name": "#%%\n"
    }
   }
  }
 ],
 "metadata": {
  "kernelspec": {
   "display_name": "Python 3",
   "language": "python",
   "name": "python3"
  },
  "language_info": {
   "codemirror_mode": {
    "name": "ipython",
    "version": 2
   },
   "file_extension": ".py",
   "mimetype": "text/x-python",
   "name": "python",
   "nbconvert_exporter": "python",
   "pygments_lexer": "ipython2",
   "version": "2.7.6"
  }
 },
 "nbformat": 4,
 "nbformat_minor": 0
}