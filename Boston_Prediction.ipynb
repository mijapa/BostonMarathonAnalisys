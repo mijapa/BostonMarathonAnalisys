{
 "cells": [
  {
   "cell_type": "code",
   "execution_count": 140,
   "outputs": [
    {
     "name": "stderr",
     "output_type": "stream",
     "text": [
      "b'Skipping line 26144: expected 20 fields, saw 21\\n'\n"
     ]
    },
    {
     "data": {
      "text/plain": "  BibNumber          FullName           SortName  AgeOnRaceDay Gender  \\\n0         2  Lawrence Cherono  Cherono, Lawrence            30      M   \n1         6     Lelisa Desisa     Desisa, Lelisa            29      M   \n\n      City StateAbbrev StateName  Zip CountryOfResAbbrev CountryOfResName  \\\n0  Eldoret         NaN       NaN  NaN                KEN            Kenya   \n1     Ambo         NaN       NaN  NaN                ETH         Ethiopia   \n\n  CountryOfCtzAbbrev CountryOfCtzName OfficialTime  RankOverall  \\\n0                KEN            Kenya     02:07:57            1   \n1                ETH         Ethiopia     02:07:59            2   \n\n   RankOverGender  RankOverDivision EventGroup SubGroupLabel SubGroup  \n0               1                 1    Runners           NaN      NaN  \n1               2                 2    Runners           NaN      NaN  ",
      "text/html": "<div>\n<style scoped>\n    .dataframe tbody tr th:only-of-type {\n        vertical-align: middle;\n    }\n\n    .dataframe tbody tr th {\n        vertical-align: top;\n    }\n\n    .dataframe thead th {\n        text-align: right;\n    }\n</style>\n<table border=\"1\" class=\"dataframe\">\n  <thead>\n    <tr style=\"text-align: right;\">\n      <th></th>\n      <th>BibNumber</th>\n      <th>FullName</th>\n      <th>SortName</th>\n      <th>AgeOnRaceDay</th>\n      <th>Gender</th>\n      <th>City</th>\n      <th>StateAbbrev</th>\n      <th>StateName</th>\n      <th>Zip</th>\n      <th>CountryOfResAbbrev</th>\n      <th>CountryOfResName</th>\n      <th>CountryOfCtzAbbrev</th>\n      <th>CountryOfCtzName</th>\n      <th>OfficialTime</th>\n      <th>RankOverall</th>\n      <th>RankOverGender</th>\n      <th>RankOverDivision</th>\n      <th>EventGroup</th>\n      <th>SubGroupLabel</th>\n      <th>SubGroup</th>\n    </tr>\n  </thead>\n  <tbody>\n    <tr>\n      <td>0</td>\n      <td>2</td>\n      <td>Lawrence Cherono</td>\n      <td>Cherono, Lawrence</td>\n      <td>30</td>\n      <td>M</td>\n      <td>Eldoret</td>\n      <td>NaN</td>\n      <td>NaN</td>\n      <td>NaN</td>\n      <td>KEN</td>\n      <td>Kenya</td>\n      <td>KEN</td>\n      <td>Kenya</td>\n      <td>02:07:57</td>\n      <td>1</td>\n      <td>1</td>\n      <td>1</td>\n      <td>Runners</td>\n      <td>NaN</td>\n      <td>NaN</td>\n    </tr>\n    <tr>\n      <td>1</td>\n      <td>6</td>\n      <td>Lelisa Desisa</td>\n      <td>Desisa, Lelisa</td>\n      <td>29</td>\n      <td>M</td>\n      <td>Ambo</td>\n      <td>NaN</td>\n      <td>NaN</td>\n      <td>NaN</td>\n      <td>ETH</td>\n      <td>Ethiopia</td>\n      <td>ETH</td>\n      <td>Ethiopia</td>\n      <td>02:07:59</td>\n      <td>2</td>\n      <td>2</td>\n      <td>2</td>\n      <td>Runners</td>\n      <td>NaN</td>\n      <td>NaN</td>\n    </tr>\n  </tbody>\n</table>\n</div>"
     },
     "execution_count": 140,
     "metadata": {},
     "output_type": "execute_result"
    }
   ],
   "source": [
    "import numpy as np\n",
    "import pandas as pd\n",
    "from datetime import datetime\n",
    "\n",
    "import seaborn as sns\n",
    "import matplotlib.pyplot as plt\n",
    "sns.set_style(\"whitegrid\")\n",
    "%matplotlib inline\n",
    "\n",
    "from datetime import datetime\n",
    "import time\n",
    "import csv\n",
    "sns.set_style(\"darkgrid\")\n",
    "results_2018 = pd.read_csv('./Runners_all_results_2018.csv', header = 0, encoding='latin-1')\n",
    "results_2018['OfficialTime'] = results_2018['OfficialTime'].apply(lambda x: datetime.combine(datetime.min, datetime.strptime(x, '%H:%M:%S').time()) - datetime.min)\n",
    "results_2019 = pd.read_csv('./Runners_all_results_2019.csv', header = 0, encoding='latin-1', error_bad_lines=False)\n",
    "results_2019['OfficialTime'] = results_2019['OfficialTime'].apply(lambda x: datetime.combine(datetime.min, datetime.strptime(x, '%H:%M:%S').time()) - datetime.min)\n",
    "results_2019.head(2)"
   ],
   "metadata": {
    "collapsed": false,
    "pycharm": {
     "name": "#%%\n"
    }
   }
  },
  {
   "cell_type": "code",
   "execution_count": 141,
   "outputs": [
    {
     "name": "stderr",
     "output_type": "stream",
     "text": [
      "/home/micha/anaconda3/lib/python3.7/site-packages/ipykernel_launcher.py:1: SettingWithCopyWarning: \n",
      "A value is trying to be set on a copy of a slice from a DataFrame\n",
      "\n",
      "See the caveats in the documentation: http://pandas.pydata.org/pandas-docs/stable/user_guide/indexing.html#returning-a-view-versus-a-copy\n",
      "  \"\"\"Entry point for launching an IPython kernel.\n",
      "/home/micha/anaconda3/lib/python3.7/site-packages/ipykernel_launcher.py:2: SettingWithCopyWarning: \n",
      "A value is trying to be set on a copy of a slice from a DataFrame\n",
      "\n",
      "See the caveats in the documentation: http://pandas.pydata.org/pandas-docs/stable/user_guide/indexing.html#returning-a-view-versus-a-copy\n",
      "  \n"
     ]
    },
    {
     "data": {
      "text/plain": "  BibNumber          FullName           SortName  AgeOnRaceDay Gender  \\\n0         2  Lawrence Cherono  Cherono, Lawrence            30      1   \n\n      City StateAbbrev StateName  Zip CountryOfResAbbrev CountryOfResName  \\\n0  Eldoret         NaN       NaN  NaN                KEN            Kenya   \n\n  CountryOfCtzAbbrev CountryOfCtzName OfficialTime  RankOverall  \\\n0                KEN            Kenya     02:07:57            1   \n\n   RankOverGender  RankOverDivision EventGroup SubGroupLabel SubGroup  \n0               1                 1    Runners           NaN      NaN  ",
      "text/html": "<div>\n<style scoped>\n    .dataframe tbody tr th:only-of-type {\n        vertical-align: middle;\n    }\n\n    .dataframe tbody tr th {\n        vertical-align: top;\n    }\n\n    .dataframe thead th {\n        text-align: right;\n    }\n</style>\n<table border=\"1\" class=\"dataframe\">\n  <thead>\n    <tr style=\"text-align: right;\">\n      <th></th>\n      <th>BibNumber</th>\n      <th>FullName</th>\n      <th>SortName</th>\n      <th>AgeOnRaceDay</th>\n      <th>Gender</th>\n      <th>City</th>\n      <th>StateAbbrev</th>\n      <th>StateName</th>\n      <th>Zip</th>\n      <th>CountryOfResAbbrev</th>\n      <th>CountryOfResName</th>\n      <th>CountryOfCtzAbbrev</th>\n      <th>CountryOfCtzName</th>\n      <th>OfficialTime</th>\n      <th>RankOverall</th>\n      <th>RankOverGender</th>\n      <th>RankOverDivision</th>\n      <th>EventGroup</th>\n      <th>SubGroupLabel</th>\n      <th>SubGroup</th>\n    </tr>\n  </thead>\n  <tbody>\n    <tr>\n      <td>0</td>\n      <td>2</td>\n      <td>Lawrence Cherono</td>\n      <td>Cherono, Lawrence</td>\n      <td>30</td>\n      <td>1</td>\n      <td>Eldoret</td>\n      <td>NaN</td>\n      <td>NaN</td>\n      <td>NaN</td>\n      <td>KEN</td>\n      <td>Kenya</td>\n      <td>KEN</td>\n      <td>Kenya</td>\n      <td>02:07:57</td>\n      <td>1</td>\n      <td>1</td>\n      <td>1</td>\n      <td>Runners</td>\n      <td>NaN</td>\n      <td>NaN</td>\n    </tr>\n  </tbody>\n</table>\n</div>"
     },
     "execution_count": 141,
     "metadata": {},
     "output_type": "execute_result"
    }
   ],
   "source": [
    "results_2019.Gender[results_2019.Gender == 'M'] = 1\n",
    "results_2019.Gender[results_2019.Gender == 'F'] = 0\n",
    "results_2019.head(1)\n",
    "\n",
    "# results_2018['Year']=2018\n",
    "# results_2019['Year']=2019\n",
    "# results = results_2019.append(results_2018, ignore_index = True, sort=True)\n",
    "\n",
    "# results_2019.describe()\n",
    "# results_2019 = results_2019[['AgeOnRaceDay','RankOverall','OfficialTime']]\n"
   ],
   "metadata": {
    "collapsed": false,
    "pycharm": {
     "name": "#%%\n"
    }
   }
  },
  {
   "cell_type": "code",
   "source": [
    "import numpy as np\n",
    "import pandas as pd\n",
    "from datetime import datetime\n",
    "\n",
    "import seaborn as sns\n",
    "import matplotlib.pyplot as plt\n",
    "sns.set_style(\"whitegrid\")\n",
    "%matplotlib inline\n",
    "\n",
    "from datetime import datetime\n",
    "import time\n",
    "import csv\n",
    "sns.set_style(\"darkgrid\")\n",
    "results_2018 = pd.read_csv('./Runners_all_results_2018.csv', header = 0, encoding='latin-1')\n",
    "results_2018['OfficialTime'] = results_2018['OfficialTime'].apply(lambda x: datetime.combine(datetime.min, datetime.strptime(x, '%H:%M:%S').time()) - datetime.min)\n",
    "results_2019 = pd.read_csv('./Runners_all_results_2019.csv', header = 0, encoding='latin-1', error_bad_lines=False)\n",
    "results_2019['OfficialTime'] = results_2019['OfficialTime'].apply(lambda x: datetime.combine(datetime.min, datetime.strptime(x, '%H:%M:%S').time()) - datetime.min)\n",
    "results_2019.head(2)"
   ],
   "metadata": {
    "collapsed": false,
    "pycharm": {
     "name": "#%%\n"
    }
   },
   "execution_count": 142,
   "outputs": [
    {
     "name": "stderr",
     "output_type": "stream",
     "text": [
      "b'Skipping line 26144: expected 20 fields, saw 21\\n'\n"
     ]
    },
    {
     "data": {
      "text/plain": "  BibNumber          FullName           SortName  AgeOnRaceDay Gender  \\\n0         2  Lawrence Cherono  Cherono, Lawrence            30      M   \n1         6     Lelisa Desisa     Desisa, Lelisa            29      M   \n\n      City StateAbbrev StateName  Zip CountryOfResAbbrev CountryOfResName  \\\n0  Eldoret         NaN       NaN  NaN                KEN            Kenya   \n1     Ambo         NaN       NaN  NaN                ETH         Ethiopia   \n\n  CountryOfCtzAbbrev CountryOfCtzName OfficialTime  RankOverall  \\\n0                KEN            Kenya     02:07:57            1   \n1                ETH         Ethiopia     02:07:59            2   \n\n   RankOverGender  RankOverDivision EventGroup SubGroupLabel SubGroup  \n0               1                 1    Runners           NaN      NaN  \n1               2                 2    Runners           NaN      NaN  ",
      "text/html": "<div>\n<style scoped>\n    .dataframe tbody tr th:only-of-type {\n        vertical-align: middle;\n    }\n\n    .dataframe tbody tr th {\n        vertical-align: top;\n    }\n\n    .dataframe thead th {\n        text-align: right;\n    }\n</style>\n<table border=\"1\" class=\"dataframe\">\n  <thead>\n    <tr style=\"text-align: right;\">\n      <th></th>\n      <th>BibNumber</th>\n      <th>FullName</th>\n      <th>SortName</th>\n      <th>AgeOnRaceDay</th>\n      <th>Gender</th>\n      <th>City</th>\n      <th>StateAbbrev</th>\n      <th>StateName</th>\n      <th>Zip</th>\n      <th>CountryOfResAbbrev</th>\n      <th>CountryOfResName</th>\n      <th>CountryOfCtzAbbrev</th>\n      <th>CountryOfCtzName</th>\n      <th>OfficialTime</th>\n      <th>RankOverall</th>\n      <th>RankOverGender</th>\n      <th>RankOverDivision</th>\n      <th>EventGroup</th>\n      <th>SubGroupLabel</th>\n      <th>SubGroup</th>\n    </tr>\n  </thead>\n  <tbody>\n    <tr>\n      <td>0</td>\n      <td>2</td>\n      <td>Lawrence Cherono</td>\n      <td>Cherono, Lawrence</td>\n      <td>30</td>\n      <td>M</td>\n      <td>Eldoret</td>\n      <td>NaN</td>\n      <td>NaN</td>\n      <td>NaN</td>\n      <td>KEN</td>\n      <td>Kenya</td>\n      <td>KEN</td>\n      <td>Kenya</td>\n      <td>02:07:57</td>\n      <td>1</td>\n      <td>1</td>\n      <td>1</td>\n      <td>Runners</td>\n      <td>NaN</td>\n      <td>NaN</td>\n    </tr>\n    <tr>\n      <td>1</td>\n      <td>6</td>\n      <td>Lelisa Desisa</td>\n      <td>Desisa, Lelisa</td>\n      <td>29</td>\n      <td>M</td>\n      <td>Ambo</td>\n      <td>NaN</td>\n      <td>NaN</td>\n      <td>NaN</td>\n      <td>ETH</td>\n      <td>Ethiopia</td>\n      <td>ETH</td>\n      <td>Ethiopia</td>\n      <td>02:07:59</td>\n      <td>2</td>\n      <td>2</td>\n      <td>2</td>\n      <td>Runners</td>\n      <td>NaN</td>\n      <td>NaN</td>\n    </tr>\n  </tbody>\n</table>\n</div>"
     },
     "execution_count": 142,
     "metadata": {},
     "output_type": "execute_result"
    }
   ]
  },
  {
   "cell_type": "code",
   "execution_count": 159,
   "outputs": [
    {
     "name": "stderr",
     "output_type": "stream",
     "text": [
      "/home/micha/anaconda3/lib/python3.7/site-packages/ipykernel_launcher.py:2: SettingWithCopyWarning: \n",
      "A value is trying to be set on a copy of a slice from a DataFrame\n",
      "\n",
      "See the caveats in the documentation: http://pandas.pydata.org/pandas-docs/stable/user_guide/indexing.html#returning-a-view-versus-a-copy\n",
      "  \n",
      "/home/micha/anaconda3/lib/python3.7/site-packages/pandas/core/generic.py:9114: SettingWithCopyWarning: \n",
      "A value is trying to be set on a copy of a slice from a DataFrame\n",
      "\n",
      "See the caveats in the documentation: http://pandas.pydata.org/pandas-docs/stable/user_guide/indexing.html#returning-a-view-versus-a-copy\n",
      "  self._update_inplace(new_data)\n",
      "/home/micha/anaconda3/lib/python3.7/site-packages/IPython/core/interactiveshell.py:3326: SettingWithCopyWarning: \n",
      "A value is trying to be set on a copy of a slice from a DataFrame\n",
      "\n",
      "See the caveats in the documentation: http://pandas.pydata.org/pandas-docs/stable/user_guide/indexing.html#returning-a-view-versus-a-copy\n",
      "  exec(code_obj, self.user_global_ns, self.user_ns)\n",
      "/home/micha/anaconda3/lib/python3.7/site-packages/ipykernel_launcher.py:3: SettingWithCopyWarning: \n",
      "A value is trying to be set on a copy of a slice from a DataFrame\n",
      "\n",
      "See the caveats in the documentation: http://pandas.pydata.org/pandas-docs/stable/user_guide/indexing.html#returning-a-view-versus-a-copy\n",
      "  This is separate from the ipykernel package so we can avoid doing imports until\n"
     ]
    },
    {
     "data": {
      "text/plain": "   AgeOnRaceDay Gender CountryOfCtzAbbrev OfficialTime  RankOverall\n0            30      1                KEN     02:07:57            1\n1            29      1                ETH     02:07:59            2",
      "text/html": "<div>\n<style scoped>\n    .dataframe tbody tr th:only-of-type {\n        vertical-align: middle;\n    }\n\n    .dataframe tbody tr th {\n        vertical-align: top;\n    }\n\n    .dataframe thead th {\n        text-align: right;\n    }\n</style>\n<table border=\"1\" class=\"dataframe\">\n  <thead>\n    <tr style=\"text-align: right;\">\n      <th></th>\n      <th>AgeOnRaceDay</th>\n      <th>Gender</th>\n      <th>CountryOfCtzAbbrev</th>\n      <th>OfficialTime</th>\n      <th>RankOverall</th>\n    </tr>\n  </thead>\n  <tbody>\n    <tr>\n      <td>0</td>\n      <td>30</td>\n      <td>1</td>\n      <td>KEN</td>\n      <td>02:07:57</td>\n      <td>1</td>\n    </tr>\n    <tr>\n      <td>1</td>\n      <td>29</td>\n      <td>1</td>\n      <td>ETH</td>\n      <td>02:07:59</td>\n      <td>2</td>\n    </tr>\n  </tbody>\n</table>\n</div>"
     },
     "execution_count": 159,
     "metadata": {},
     "output_type": "execute_result"
    }
   ],
   "source": [
    "results_2019 = results_2019[['AgeOnRaceDay', 'Gender', 'CountryOfCtzAbbrev', 'OfficialTime', 'RankOverall']]\n",
    "results_2019.Gender[results_2019.Gender == 'M'] = 1\n",
    "results_2019.Gender[results_2019.Gender == 'F'] = 0\n",
    "results_2019.head(2)"
   ],
   "metadata": {
    "collapsed": false,
    "pycharm": {
     "name": "#%%\n"
    }
   }
  },
  {
   "cell_type": "markdown",
   "source": [
    "### Data standardisation with [StandardScaler](http://scikit-learn.org/stable/modules/generated/sklearn.preprocessing.StandardScaler.html)"
   ],
   "metadata": {
    "collapsed": false,
    "pycharm": {
     "name": "#%% md\n"
    }
   }
  },
  {
   "cell_type": "code",
   "execution_count": 144,
   "outputs": [],
   "source": [
    "from sklearn.preprocessing import StandardScaler\n",
    "scaler = StandardScaler()\n",
    "scaled_data = scaler.fit_transform(results_2019[['AgeOnRaceDay','Gender']])"
   ],
   "metadata": {
    "collapsed": false,
    "pycharm": {
     "name": "#%%\n"
    }
   }
  },
  {
   "cell_type": "markdown",
   "source": [
    "### Data split into train and test batches with [train_test_split](http://scikit-learn.org/stable/modules/generated/sklearn.model_selection.train_test_split.html) method"
   ],
   "metadata": {
    "collapsed": false,
    "pycharm": {
     "name": "#%% md\n"
    }
   }
  },
  {
   "cell_type": "code",
   "source": [
    "from sklearn.model_selection import train_test_split\n",
    "y = results_2019[['RankOverall']]\n",
    "\n",
    "train_data, test_data, \\\n",
    "train_target, test_target = \\\n",
    "train_test_split(scaled_data,y, test_size=0.1)"
   ],
   "metadata": {
    "collapsed": false,
    "pycharm": {
     "name": "#%%\n"
    }
   },
   "execution_count": 145,
   "outputs": []
  },
  {
   "cell_type": "code",
   "execution_count": 146,
   "outputs": [],
   "source": [
    "#train test split przyjmuje parametry: dane, targety, rozmiar zbioru testowego"
   ],
   "metadata": {
    "collapsed": false,
    "pycharm": {
     "name": "#%%\n"
    }
   }
  },
  {
   "cell_type": "code",
   "source": [
    "print(\"Training dataset:\")\n",
    "print(\"patients_train_data:\", train_data.shape)\n",
    "print(\"patients_train_target:\", train_target.shape)"
   ],
   "metadata": {
    "collapsed": false,
    "pycharm": {
     "name": "#%%\n"
    }
   },
   "execution_count": 147,
   "outputs": [
    {
     "name": "stdout",
     "output_type": "stream",
     "text": [
      "Training dataset:\n",
      "patients_train_data: (23990, 2)\n",
      "patients_train_target: (23990, 1)\n"
     ]
    }
   ]
  },
  {
   "cell_type": "code",
   "execution_count": 148,
   "outputs": [
    {
     "name": "stdout",
     "output_type": "stream",
     "text": [
      "Testing dataset:\n",
      "patients_test_data: (2666, 2)\n",
      "patients_test_target: (2666, 1)\n"
     ]
    }
   ],
   "source": [
    "print(\"Testing dataset:\")\n",
    "print(\"patients_test_data:\", test_data.shape)\n",
    "print(\"patients_test_target:\", test_target.shape)"
   ],
   "metadata": {
    "collapsed": false,
    "pycharm": {
     "name": "#%%\n"
    }
   }
  },
  {
   "cell_type": "markdown",
   "source": [
    "### Training [LinearRegression](http://scikit-learn.org/stable/modules/generated/sklearn.linear_model.LinearRegression.html) model"
   ],
   "metadata": {
    "collapsed": false,
    "pycharm": {
     "name": "#%% md\n"
    }
   }
  },
  {
   "cell_type": "code",
   "execution_count": 149,
   "outputs": [
    {
     "data": {
      "text/plain": "LinearRegression(copy_X=True, fit_intercept=True, n_jobs=None, normalize=False)"
     },
     "execution_count": 149,
     "metadata": {},
     "output_type": "execute_result"
    }
   ],
   "source": [
    "from sklearn.linear_model import LinearRegression\n",
    "\n",
    "linear_regression = LinearRegression()\n",
    "linear_regression.fit(train_data, train_target)"
   ],
   "metadata": {
    "collapsed": false,
    "pycharm": {
     "name": "#%%\n"
    }
   }
  },
  {
   "cell_type": "markdown",
   "source": [
    "### Using trained model"
   ],
   "metadata": {
    "collapsed": false,
    "pycharm": {
     "name": "#%% md\n"
    }
   }
  },
  {
   "cell_type": "code",
   "source": [
    "id=1\n",
    "linear_regression_prediction = linear_regression.predict(test_data[id,:].reshape(1,-1))\n"
   ],
   "metadata": {
    "collapsed": false,
    "pycharm": {
     "name": "#%%\n"
    }
   },
   "execution_count": 150,
   "outputs": []
  },
  {
   "cell_type": "code",
   "execution_count": 151,
   "outputs": [
    {
     "name": "stdout",
     "output_type": "stream",
     "text": [
      "Model predicted for participant 1 value [[16853.1055156]]\n"
     ]
    }
   ],
   "source": [
    "print(\"Model predicted for participant {0} value {1}\".format(id, linear_regression_prediction))"
   ],
   "metadata": {
    "collapsed": false,
    "pycharm": {
     "name": "#%%\n"
    }
   }
  },
  {
   "cell_type": "code",
   "source": [
    "print(\"Real value for participant \\\"{0}\\\" is {1}\".format(id, test_target.iloc[id]))"
   ],
   "metadata": {
    "collapsed": false,
    "pycharm": {
     "name": "#%%\n"
    }
   },
   "execution_count": 152,
   "outputs": [
    {
     "name": "stdout",
     "output_type": "stream",
     "text": [
      "Real value for participant \"1\" is RankOverall    24978\n",
      "Name: 24977, dtype: int64\n"
     ]
    }
   ]
  },
  {
   "cell_type": "code",
   "execution_count": 153,
   "outputs": [
    {
     "name": "stdout",
     "output_type": "stream",
     "text": [
      "Coefficients of a learned model: \n",
      " [[ 2801.17848799 -2703.3339753 ]]\n"
     ]
    }
   ],
   "source": [
    "print('Coefficients of a learned model: \\n', linear_regression.coef_)"
   ],
   "metadata": {
    "collapsed": false,
    "pycharm": {
     "name": "#%%\n"
    }
   }
  },
  {
   "cell_type": "markdown",
   "source": [
    "### Model evaluation"
   ],
   "metadata": {
    "collapsed": false
   }
  },
  {
   "cell_type": "code",
   "source": [
    "from sklearn.metrics import mean_squared_error\n",
    "print(\"Mean squared error of a learned model: %.2f\" %\n",
    "      mean_squared_error(test_target, linear_regression.predict(test_data)))"
   ],
   "metadata": {
    "collapsed": false,
    "pycharm": {
     "name": "#%%\n"
    }
   },
   "execution_count": 154,
   "outputs": [
    {
     "name": "stdout",
     "output_type": "stream",
     "text": [
      "Mean squared error of a learned model: 47090921.64\n"
     ]
    }
   ]
  },
  {
   "cell_type": "markdown",
   "source": [
    "Determining [Coefficient of determination](https://en.wikipedia.org/wiki/Coefficient_of_determination) with [r2_score()](http://scikit-learn.org/stable/modules/generated/sklearn.metrics.r2_score.html)"
   ],
   "metadata": {
    "collapsed": false,
    "pycharm": {
     "name": "#%% md\n"
    }
   }
  },
  {
   "cell_type": "code",
   "source": [
    "from sklearn.metrics import r2_score\n",
    "print('Variance score: %.2f' % r2_score(test_target, linear_regression.predict(test_data)))"
   ],
   "metadata": {
    "collapsed": false,
    "pycharm": {
     "name": "#%%\n"
    }
   },
   "execution_count": 155,
   "outputs": [
    {
     "name": "stdout",
     "output_type": "stream",
     "text": [
      "Variance score: 0.21\n"
     ]
    }
   ]
  },
  {
   "cell_type": "markdown",
   "source": [
    "### Model evaluation with [cross-validation](http://scikit-learn.org/stable/modules/generated/sklearn.model_selection.cross_val_score.html)"
   ],
   "metadata": {
    "collapsed": false,
    "pycharm": {
     "name": "#%% md\n"
    }
   }
  },
  {
   "cell_type": "markdown",
   "source": [
    "fig. cross-validation (https://en.wikipedia.org/wiki/Cross-validation_(statistics))\n",
    "\n",
    "##### kroswalidacja\n",
    "dane dzielimy na trenigowe i testowe wiele razy - otrzymujemy model i testujemy za każdym razem (zazwyczaj 4 \"foldy\")\n",
    "chcemy określić jak nasz model relizuje fenomen który jest w danych\n",
    "pozwala pokazać czy regresja linowa daje zadowalajace wyniki"
   ],
   "metadata": {
    "collapsed": false
   }
  },
  {
   "cell_type": "code",
   "execution_count": 156,
   "outputs": [
    {
     "name": "stdout",
     "output_type": "stream",
     "text": [
      "[-40.37952549  -7.65303706  -4.45027349 -40.41243217]\n"
     ]
    }
   ],
   "source": [
    "from sklearn.model_selection import cross_val_score\n",
    "scores = cross_val_score(LinearRegression(), results_2019[['AgeOnRaceDay','Gender']],results_2019[['RankOverall']], cv=4)\n",
    "print(scores)"
   ],
   "metadata": {
    "collapsed": false,
    "pycharm": {
     "name": "#%%\n"
    }
   }
  },
  {
   "cell_type": "markdown",
   "source": [
    "### [Lasso regression](http://scikit-learn.org/stable/modules/generated/sklearn.linear_model.Lasso.html) model. A Model with [regularization](https://en.wikipedia.org/wiki/Regularization_(mathematics)"
   ],
   "metadata": {
    "collapsed": false
   }
  },
  {
   "cell_type": "code",
   "execution_count": 158,
   "outputs": [
    {
     "name": "stdout",
     "output_type": "stream",
     "text": [
      "Lasso regression variance score: 0.21\n"
     ]
    }
   ],
   "source": [
    "from sklearn.linear_model import Lasso\n",
    "lasso_regression = Lasso(alpha=0.6)\n",
    "lasso_regression.fit(train_data, train_target)\n",
    "score = lasso_regression.score(test_data, test_target) #r2 score\n",
    "print(\"Lasso regression variance score: %.2f\" % score)"
   ],
   "metadata": {
    "collapsed": false,
    "pycharm": {
     "name": "#%%\n"
    }
   }
  }
 ],
 "metadata": {
  "kernelspec": {
   "display_name": "Python 3",
   "language": "python",
   "name": "python3"
  },
  "language_info": {
   "codemirror_mode": {
    "name": "ipython",
    "version": 2
   },
   "file_extension": ".py",
   "mimetype": "text/x-python",
   "name": "python",
   "nbconvert_exporter": "python",
   "pygments_lexer": "ipython2",
   "version": "2.7.6"
  }
 },
 "nbformat": 4,
 "nbformat_minor": 0
}